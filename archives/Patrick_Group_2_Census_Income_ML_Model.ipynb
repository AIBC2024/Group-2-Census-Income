{
 "cells": [
  {
   "cell_type": "markdown",
   "metadata": {},
   "source": [
    "## Required Libraries and Dependencies"
   ]
  },
  {
   "cell_type": "code",
   "execution_count": null,
   "metadata": {},
   "outputs": [],
   "source": [
    "import pandas as pd\n",
    "import matplotlib.pyplot as plt\n",
    "import matplotlib.patches as mpatches\n",
    "from sklearn.model_selection import train_test_split\n",
    "from sklearn.preprocessing import OneHotEncoder\n",
    "from sklearn.linear_model import LogisticRegression\n",
    "from imblearn.over_sampling import SMOTE\n",
    "from collections import Counter\n"
   ]
  },
  {
   "cell_type": "markdown",
   "metadata": {},
   "source": [
    "## Does education impact income?"
   ]
  },
  {
   "cell_type": "code",
   "execution_count": null,
   "metadata": {},
   "outputs": [],
   "source": [
    "# Create a table for 'education' vs 'income'\n",
    "education_income_table = pd.crosstab(census_combined_df['education'], census_combined_df['income'])\n",
    "print(education_income_table)"
   ]
  },
  {
   "cell_type": "code",
   "execution_count": null,
   "metadata": {},
   "outputs": [],
   "source": [
    "# Seperate the target from the features\n",
    "X = census_combined_df.drop('income', axis=1)\n",
    "y = census_combined_df['income']\n",
    "\n",
    "# Split the data into training and testing\n",
    "X_train, X_test, y_train, y_test = train_test_split(X, y, test_size=0.2, random_state=42, stratify=y)\n",
    "\n",
    "# Apply SMOTE to the training data\n",
    "smote = SMOTE(random_state=42)\n",
    "X_train_resampled, y_train_resampled = smote.fit_resample(X_train, y_train)\n",
    "\n",
    "# Check the class distribution after SMOTE\n",
    "print(\"Before SMOTE:\", Counter(y_train))\n",
    "print(\"After SMOTE:\", Counter(y_train_resampled))"
   ]
  },
  {
   "cell_type": "code",
   "execution_count": null,
   "metadata": {},
   "outputs": [],
   "source": [
    "# Visualize the data proportions of education vs income\n",
    "# Calculate proportions for 'education'\n",
    "education_income_prop = education_income_table.div(education_income_table.sum(axis=1), axis=0)\n",
    "\n",
    "# Create a variable for custom legend handles\n",
    "legend_handles = [\n",
    "    mpatches.Patch(color='blue', label='<=50K'),\n",
    "    mpatches.Patch(color='orange', label='>50K')\n",
    "]\n",
    "# Plot a stacked bar chart\n",
    "education_income_prop.plot(kind='bar', stacked=True, figsize=(10,6))\n",
    "plt.title('Income Distribution by Education')\n",
    "plt.ylabel('Proportion')\n",
    "plt.xlabel('Education')\n",
    "plt.xticks([0, 1, 2, 3,], ['Early Education', 'Secondary Education', 'Higher Education', 'Advanced Education'], rotation=90)\n",
    "plt.legend(title='Income', handles=legend_handles)\n",
    "plt.show()"
   ]
  },
  {
   "cell_type": "code",
   "execution_count": null,
   "metadata": {},
   "outputs": [],
   "source": [
    "# Feature is 'education' and target is 'income'\n",
    "X = census_combined_df[['education']]\n",
    "y = census_combined_df['income']\n",
    "display(print(X.head()))\n",
    "\n",
    "# One-hot encode the education feature\n",
    "encoder = OneHotEncoder()\n",
    "X_encoded = encoder.fit_transform(X)\n",
    "\n",
    "# Split the data\n",
    "X_train, X_test, y_train, y_test = train_test_split(X_encoded, y, test_size=0.2, random_state=42)\n",
    "\n",
    "# Train a logistic regression model\n",
    "model = LogisticRegression(solver='liblinear')\n",
    "model.fit(X_train, y_train)\n",
    "\n",
    "# Print the coefficients with their corresponding education category names\n",
    "education_feature_names = encoder.get_feature_names_out(['education'])\n",
    "coef_df = pd.DataFrame({\n",
    "    'Education Feature': education_feature_names,\n",
    "    'Coefficient': model.coef_[0]\n",
    "})\n",
    "\n",
    "print(coef_df)"
   ]
  },
  {
   "cell_type": "markdown",
   "metadata": {},
   "source": [
    "## Does Marital-Status impact Income?"
   ]
  },
  {
   "cell_type": "code",
   "execution_count": null,
   "metadata": {},
   "outputs": [],
   "source": [
    "# Create a table for 'marital-status' vs 'income'\n",
    "maritalStatus_income_table = pd.crosstab(census_combined_df['marital-status'], census_combined_df['income'])\n",
    "print(maritalStatus_income_table)"
   ]
  },
  {
   "cell_type": "code",
   "execution_count": null,
   "metadata": {},
   "outputs": [],
   "source": [
    "# Visualize the data proportions of education vs income\n",
    "# Calculate proportions for 'education'\n",
    "maritalStatus_income_prop = maritalStatus_income_table.div(maritalStatus_income_table.sum(axis=1), axis=0)\n",
    "\n",
    "# Create a variable for custom legend handles\n",
    "legend_handles = [\n",
    "    mpatches.Patch(color='blue', label='<=50K'),\n",
    "    mpatches.Patch(color='orange', label='>50K')\n",
    "]\n",
    "# Plot a stacked bar chart\n",
    "maritalStatus_income_prop.plot(kind='bar', stacked=True, figsize=(10,6))\n",
    "plt.title('Income Distribution by Marital-Status')\n",
    "plt.ylabel('Proportion')\n",
    "plt.xlabel('Marital-Status')\n",
    "plt.xticks([0, 1], ['Not-Married', 'Married'], rotation=90)\n",
    "plt.legend(title='Income', handles=legend_handles)\n",
    "plt.show()"
   ]
  },
  {
   "cell_type": "code",
   "execution_count": null,
   "metadata": {},
   "outputs": [],
   "source": [
    "# Feature is 'marital-status' and target is 'income'\n",
    "X = census_combined_df[['marital-status']]\n",
    "y = census_combined_df['income']\n",
    "display(print(X.head()))\n",
    "\n",
    "# One-hot encode the marital-status feature\n",
    "encoder = OneHotEncoder()\n",
    "X_encoded = encoder.fit_transform(X)\n",
    "\n",
    "# Split the data\n",
    "X_train, X_test, y_train, y_test = train_test_split(X_encoded, y, test_size=0.2, random_state=42)\n",
    "\n",
    "# Train a logistic regression model\n",
    "model = LogisticRegression(solver='liblinear')\n",
    "model.fit(X_train, y_train)\n",
    "\n",
    "# Print the coefficients with their corresponding marital-status category names\n",
    "maritalStatus_feature_names = encoder.get_feature_names_out(['marital-status'])\n",
    "coef_df = pd.DataFrame({\n",
    "    'Marital-Status Feature': maritalStatus_feature_names,\n",
    "    'Coefficient': model.coef_[0]\n",
    "})\n",
    "\n",
    "print(coef_df)"
   ]
  },
  {
   "cell_type": "markdown",
   "metadata": {},
   "source": [
    "## SMOTE"
   ]
  },
  {
   "cell_type": "code",
   "execution_count": null,
   "metadata": {},
   "outputs": [],
   "source": [
    "# Seperate the target from the features\n",
    "X = census_combined_simplified_df.drop('income', axis=1)\n",
    "y = census_combined_simplified_df['income']\n",
    "\n",
    "# Split the data into training and testing\n",
    "X_train, X_test, y_train, y_test = train_test_split(X, y, test_size=0.2, random_state=42, stratify=y)\n",
    "\n",
    "# Apply SMOTE to the training data\n",
    "smote = SMOTE(random_state=42)\n",
    "X_train_resampled, y_train_resampled = smote.fit_resample(X_train, y_train)\n",
    "\n",
    "# Check the class distribution after SMOTE\n",
    "print(\"Before SMOTE:\", Counter(y_train))\n",
    "print(\"After SMOTE:\", Counter(y_train_resampled))"
   ]
  }
 ],
 "metadata": {
  "language_info": {
   "name": "python"
  }
 },
 "nbformat": 4,
 "nbformat_minor": 2
}
